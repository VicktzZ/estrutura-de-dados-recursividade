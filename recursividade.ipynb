{
 "cells": [
  {
   "cell_type": "markdown",
   "metadata": {},
   "source": [
    "# Exemplos de Recursividade em Python"
   ]
  },
  {
   "cell_type": "markdown",
   "metadata": {},
   "source": [
    "### 1. Contagem Regressiva"
   ]
  },
  {
   "cell_type": "code",
   "execution_count": null,
   "metadata": {},
   "outputs": [],
   "source": [
    "def contagem_regressiva(n):\n",
    "    if n == 0: # caso base\n",
    "        print(\"🚀 Decolagem!\")\n",
    "        return\n",
    "    \n",
    "    print(f\"{'🔥' * n} {n}...\") # caso recursivo\n",
    "    contagem_regressiva(n - 1)\n",
    "print(\"Iniciando contagem regressiva!\")\n",
    "contagem_regressiva(10)"
   ]
  },
  {
   "cell_type": "markdown",
   "metadata": {},
   "source": [
    "### 2. Fatorial"
   ]
  },
  {
   "cell_type": "code",
   "execution_count": 30,
   "metadata": {},
   "outputs": [
    {
     "name": "stdout",
     "output_type": "stream",
     "text": [
      "24\n"
     ]
    }
   ],
   "source": [
    "def fatorial(n):\n",
    "    if n == 1:  # caso base\n",
    "        return 1\n",
    "    return n * fatorial(n - 1)  # caso recursivo\n",
    "\n",
    "print(fatorial(4))"
   ]
  },
  {
   "cell_type": "markdown",
   "metadata": {},
   "source": [
    "### 3. Máximo Divisor Comum (MDC)"
   ]
  },
  {
   "cell_type": "code",
   "execution_count": 31,
   "metadata": {},
   "outputs": [
    {
     "name": "stdout",
     "output_type": "stream",
     "text": [
      "5\n"
     ]
    }
   ],
   "source": [
    "def mdc(a, b):\n",
    "    if b == 0:  # caso base\n",
    "        return a\n",
    "    return mdc(b, a % b) # caso recursivo\n",
    "\n",
    "print(mdc(5, 10))"
   ]
  },
  {
   "cell_type": "markdown",
   "metadata": {},
   "source": [
    "### 4. Sequência de Fibonacci"
   ]
  },
  {
   "cell_type": "code",
   "execution_count": null,
   "metadata": {},
   "outputs": [],
   "source": [
    "def fibonacci(n):\n",
    "    # Casos base\n",
    "    if n <= 0:\n",
    "        return 0\n",
    "    elif n == 1:\n",
    "        return 1\n",
    "    \n",
    "    # Caso recursivo\n",
    "    return fibonacci(n - 1) + fibonacci(n - 2)\n",
    "\n",
    "def mostrar_sequencia_fibonacci(n):\n",
    "    print(f\"\\nSequência de Fibonacci até o {n}º termo:\")\n",
    "    for i in range(n):\n",
    "        resultado = fibonacci(i)\n",
    "        print(f\"{i}º termo: {'🔵' * resultado} ({resultado})\")\n",
    "\n",
    "# Exemplo de uso\n",
    "mostrar_sequencia_fibonacci(7)"
   ]
  },
  {
   "cell_type": "markdown",
   "metadata": {},
   "source": [
    "### 5. Torre Hanoi"
   ]
  },
  {
   "cell_type": "code",
   "execution_count": null,
   "metadata": {},
   "outputs": [],
   "source": [
    "def torre_hanoi(n, origem, destino, auxiliar):\n",
    "    if n == 1:\n",
    "        print(f\"Mover disco 1 da torre {origem} para a torre {destino}\")\n",
    "        return\n",
    "    \n",
    "    # Move n-1 discos da origem para a torre auxiliar\n",
    "    torre_hanoi(n-1, origem, auxiliar, destino)\n",
    "    \n",
    "    # Move o disco n da origem para o destino\n",
    "    print(f\"Mover disco {n} da torre {origem} para a torre {destino}\")\n",
    "    \n",
    "    # Move n-1 discos da torre auxiliar para o destino\n",
    "    torre_hanoi(n-1, auxiliar, destino, origem)\n",
    "\n",
    "def visualizar_torre_hanoi(n):\n",
    "    print(f\"\\nResolvendo Torre de Hanói com {n} discos:\")\n",
    "    print(\"Torres: A (origem), B (auxiliar), C (destino)\\n\")\n",
    "    torre_hanoi(n, 'A', 'C', 'B')\n",
    "\n",
    "# Exemplo de uso com 3 discos\n",
    "visualizar_torre_hanoi(3)\n"
   ]
  },
  {
   "cell_type": "markdown",
   "metadata": {},
   "source": [
    "### BÔNUS. Desenho com Recursividade (Turtle)"
   ]
  },
  {
   "cell_type": "code",
   "execution_count": null,
   "metadata": {},
   "outputs": [],
   "source": [
    "import turtle\n",
    "\n",
    "def desenhar_arvore(t, tamanho):\n",
    "    # Caso base: quando o tamanho for muito pequeno\n",
    "    if tamanho < 5:\n",
    "        return\n",
    "    \n",
    "    # Desenha o tronco\n",
    "    t.forward(tamanho)\n",
    "    \n",
    "    # Salva a posição atual\n",
    "    x = t.xcor()\n",
    "    y = t.ycor()\n",
    "    angulo = t.heading()\n",
    "    \n",
    "    # Desenha o ramo direito\n",
    "    t.right(30)\n",
    "    desenhar_arvore(t, tamanho * 0.7)\n",
    "    \n",
    "    # Volta para a posição anterior\n",
    "    t.penup()\n",
    "    t.goto(x, y)\n",
    "    t.setheading(angulo)\n",
    "    t.pendown()\n",
    "    \n",
    "    # Desenha o ramo esquerdo\n",
    "    t.left(30)\n",
    "    desenhar_arvore(t, tamanho * 0.7)\n",
    "\n",
    "def main():\n",
    "    # Configuração inicial\n",
    "    tela = turtle.Screen()\n",
    "    tela.title(\"Árvore Recursiva\")\n",
    "    tela.bgcolor(\"lightblue\")\n",
    "    \n",
    "    t = turtle.Turtle()\n",
    "    t.speed(0)  # Velocidade máxima\n",
    "    t.color(\"brown\")\n",
    "    t.left(90)  # Aponta para cima\n",
    "    t.penup()\n",
    "    t.goto(0, -200)  # Posição inicial\n",
    "    t.pendown()\n",
    "    \n",
    "    # Desenha a árvore\n",
    "    desenhar_arvore(t, 100)\n",
    "    \n",
    "    # Mantém a janela aberta\n",
    "    tela.mainloop()\n",
    "\n",
    "if __name__ == \"__main__\":\n",
    "    main()\n"
   ]
  }
 ],
 "metadata": {
  "kernelspec": {
   "display_name": "Python 3",
   "language": "python",
   "name": "python3"
  },
  "language_info": {
   "codemirror_mode": {
    "name": "ipython",
    "version": 3
   },
   "file_extension": ".py",
   "mimetype": "text/x-python",
   "name": "python",
   "nbconvert_exporter": "python",
   "pygments_lexer": "ipython3",
   "version": "3.13.2"
  }
 },
 "nbformat": 4,
 "nbformat_minor": 2
}
